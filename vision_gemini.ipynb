{
  "nbformat": 4,
  "nbformat_minor": 0,
  "metadata": {
    "colab": {
      "provenance": []
    },
    "kernelspec": {
      "name": "python3",
      "display_name": "Python 3"
    },
    "language_info": {
      "name": "python"
    }
  },
  "cells": [
    {
      "cell_type": "markdown",
      "source": [
        "# Vision Gemini backend\n",
        "dated: 05/12/2024"
      ],
      "metadata": {
        "id": "GpnsXTfgn8xo"
      }
    },
    {
      "cell_type": "code",
      "execution_count": null,
      "metadata": {
        "id": "thd0xKvXiA44"
      },
      "outputs": [],
      "source": [
        "#!pip install -q -U google-generativeai"
      ]
    },
    {
      "cell_type": "code",
      "source": [
        "import google.generativeai\n",
        "print(google.generativeai.__version__)\n",
        "#0.8.3"
      ],
      "metadata": {
        "colab": {
          "base_uri": "https://localhost:8080/"
        },
        "id": "-2TW8sPpjztY",
        "outputId": "6f7d2ac0-e64b-4aad-8c7b-3198a05b3d07"
      },
      "execution_count": null,
      "outputs": [
        {
          "output_type": "stream",
          "name": "stdout",
          "text": [
            "0.8.3\n"
          ]
        }
      ]
    },
    {
      "cell_type": "code",
      "source": [
        "import IPython\n",
        "print(IPython.__version__)\n",
        "#7.34.0"
      ],
      "metadata": {
        "colab": {
          "base_uri": "https://localhost:8080/"
        },
        "id": "pen0B43Ekk11",
        "outputId": "b5667ae6-42be-49e1-e8c3-f1ce9fdfdafb"
      },
      "execution_count": null,
      "outputs": [
        {
          "output_type": "stream",
          "name": "stdout",
          "text": [
            "7.34.0\n"
          ]
        }
      ]
    },
    {
      "cell_type": "code",
      "source": [
        "!python --version\n",
        "#Python 3.10.12"
      ],
      "metadata": {
        "colab": {
          "base_uri": "https://localhost:8080/"
        },
        "id": "oqG8im5Zkk0Q",
        "outputId": "a0e13a18-2af3-4862-dcd5-67958b4f084a"
      },
      "execution_count": null,
      "outputs": [
        {
          "output_type": "stream",
          "name": "stdout",
          "text": [
            "Python 3.10.12\n"
          ]
        }
      ]
    },
    {
      "cell_type": "code",
      "source": [
        "!pip install -q -U google-generativeai==0.8.3"
      ],
      "metadata": {
        "id": "CFCBioWtkZIY"
      },
      "execution_count": null,
      "outputs": []
    },
    {
      "cell_type": "code",
      "source": [
        "import google.generativeai as genai\n",
        "from IPython.display import Markdown"
      ],
      "metadata": {
        "id": "xezK8HMCiOEt"
      },
      "execution_count": null,
      "outputs": []
    },
    {
      "cell_type": "code",
      "source": [
        "from google.colab import userdata\n",
        "GOOGLE_API_KEY=userdata.get('GOOGLE_API_KEY')\n",
        "\n",
        "genai.configure(api_key=GOOGLE_API_KEY)"
      ],
      "metadata": {
        "id": "IgZelRDwiOC4"
      },
      "execution_count": null,
      "outputs": []
    },
    {
      "cell_type": "code",
      "source": [
        "import PIL.Image\n",
        "sample_file_1 = PIL.Image.open('/content/img.jpeg')\n",
        "sample_file_2 = PIL.Image.open('/content/img2.jpeg')\n"
      ],
      "metadata": {
        "id": "y7MK3wSEicUZ"
      },
      "execution_count": null,
      "outputs": []
    },
    {
      "cell_type": "code",
      "source": [
        "\n",
        "# Choose a Gemini model.\n",
        "model = genai.GenerativeModel(model_name=\"gemini-1.5-pro-latest\")\n",
        "prompt = \"Generate a list of all the objects contained in both images.\"\n",
        "response = model.generate_content([sample_file_1, sample_file_2, prompt])\n",
        "\n",
        "Markdown(response.text)"
      ],
      "metadata": {
        "colab": {
          "base_uri": "https://localhost:8080/",
          "height": 290
        },
        "id": "gwGaepMKjBZ_",
        "outputId": "3f79b7c7-4e95-4082-f04c-9e4d86098c74"
      },
      "execution_count": null,
      "outputs": [
        {
          "output_type": "execute_result",
          "data": {
            "text/plain": [
              "<IPython.core.display.Markdown object>"
            ],
            "text/markdown": "The first image shows an elderly man with:\n\n* White hair and a long white beard\n* Round glasses\n* A textured orange and red cardigan sweater\n* Dark pants\n* Brown shoes\n* A brown wooden cane\n\nThe second image shows a friendly-looking police officer with:\n\n* A dark blue police uniform with patches and badges\n* A police cap\n* A black baton\n* A black belt with a gold buckle\n* Black shoes\n* A mustache"
          },
          "metadata": {},
          "execution_count": 6
        }
      ]
    },
    {
      "cell_type": "code",
      "source": [],
      "metadata": {
        "id": "zPfFyuKkn6wZ"
      },
      "execution_count": null,
      "outputs": []
    }
  ]
}